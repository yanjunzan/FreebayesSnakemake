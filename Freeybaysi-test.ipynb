{
 "cells": [
  {
   "cell_type": "code",
   "execution_count": null,
   "metadata": {},
   "outputs": [],
   "source": [
    "configfile: \"./Tobacco-freebayes.yaml\"\n",
    "\n",
    "###########################\n",
    "# define sample\n",
    "###########################\n",
    "\n",
    "#df = pd.read_csv(config[\"sra_list\"],sep=\"\\t\")\n",
    "SAMPLES = [\"4_FDSW190451996-1r_1.clean.fqD.fq.gz\",\"83_FDSW190451996-1r_1.clean.fqD.fq.gz\"] #df[\"Run\"].tolist()\n",
    "\n",
    "\n",
    "WORKING_DIR = config[\"result_dir\"]\n",
    "RESULT_DIR = config[\"result_dir\"]\n",
    "REF_File = \"/Users/yanjunzan/Documents/tobacco/data/genome/\"+ config[\"ref\"]\n",
    "genome = config[\"ref\"]\n",
    "###########################\n",
    "# Input functions for rules\n",
    "###########################\n",
    "\n",
    "rule all:\n",
    "    input:\n",
    "        REF_File+\".bwt\"\n",
    "        #fw  = expand(WORKING_DIR + \"fastq/{sample}_1.fastq\",sample = SAMPLES),\n",
    "        #qcfile = expand(RESULT_DIR + \"fastp/{sample}.html\",sample=SAMPLES),\n",
    "        #fq1 = expand(WORKING_DIR + \"trimmed/{sample}_R1_trimmed.fq.gz\",sample = SAMPLES),\n",
    "        #fq2 = expand(WORKING_DIR + \"trimmed/{sample}_R2_trimmed.fq.gz\",sample = SAMPLES),\n",
    "        #bam = expand(WORKING_DIR + \"mapped/{sample}.bam\", sample = SAMPLES)\n",
    "    message:\n",
    "        \"Job done! Removing temporary directory\"\n",
    "\n",
    "rule bwa_index:\n",
    "    conda:\n",
    "        \"./Tobsoft.yaml\"\n",
    "    input:\n",
    "        \"{REF_File}.fasta\"\n",
    "    output:\n",
    "        \"{REF_File}.amb\",\n",
    "        \"{REF_File}.ann\",\n",
    "        \"{REF_File}.bwt\",\n",
    "        \"{REF_File}.pac\",\n",
    "        \"{REF_File}.sa\"\n",
    "    log:\n",
    "        \"{REF_File}.log\"\n",
    "    params:\n",
    "        prefix=\"{REF_File}\",\n",
    "        algorithm=\"bwtsw\"\n",
    "    shell:\n",
    "        '''\n",
    "        bwa index -p {params.prefix} -a {params.algorithm} - {input} {log}\n",
    "        '''\n",
    "\n",
    "rule fastp:\n",
    "    input:\n",
    "        fw = WORKING_DIR + \"fastq/{sample}_1.fastq\",\n",
    "        rev= WORKING_DIR + \"fastq/{sample}_2.fastq\"\n",
    "    output:\n",
    "        fq1  = WORKING_DIR + \"trimmed/{sample}_R1_trimmed.fq.gz\",\n",
    "        fq2  = WORKING_DIR + \"trimmed/{sample}_R2_trimmed.fq.gz\",\n",
    "        html = RESULT_DIR + \"fastp/{sample}.html\"\n",
    "    conda:\n",
    "        \"./Tobsoft.yaml\"\n",
    "    message:\"trimming {wildcards.sample} reads to {output.fq1}\"\n",
    "    threads: 1\n",
    "    log:\n",
    "        RESULT_DIR + \"fastp/{sample}.log.txt\"\n",
    "    params:\n",
    "        qualified_quality_phred = config[\"fastp\"][\"qualified_quality_phred\"]\n",
    "    shell:\n",
    "        \"fastp --thread {threads}  --html {output.html} \\\n",
    "        --qualified_quality_phred {params.qualified_quality_phred} \\\n",
    "        --in1 {input.fw} --in2 {input.rev} --out1 {output.fq1} --out2 {output.fq2}; \\\n",
    "        2> {log}\"\n",
    " #index ref\n",
    "# QC -report\n",
    "# MAP - report\n",
    "# MD AD-\n",
    "# frebay\n",
    "\n",
    "\n"
   ]
  },
  {
   "cell_type": "code",
   "execution_count": 12,
   "metadata": {},
   "outputs": [],
   "source": [
    "import os\n",
    "import re\n",
    "\n",
    "def DownSample(fq1,fq2,num=10000):\n",
    "    '''\n",
    "        seqtk sample -s100 read1.fq 10000 > sub1.fq\n",
    "          seqtk sample -s100 read2.fq 10000 > sub2.fq\n",
    "    '''  \n",
    "    path = os.path.dirname(fq1)\n",
    "    basename = os.path.basename(fq1)\n",
    "    prefix = re.sub(\"(.*)_.*\",\"\\\\1\",\"83_FDSW190451996-1r_2.clean.fq.gz\")\n",
    "    \n",
    "    fqd1 = path + \"/\"+prefix + \"_DS_1.clean.fq.gz\"\n",
    "    #pathname2, extension2 = os.path.splitext(fq2)\n",
    "    fqd2 = path + \"/\"+prefix + \"_DS_2.clean.fq.gz\"\n",
    "    \n",
    "    cmd1 = \" seqtk sample -s100 \" + fq1 + \" \" +str(num) + \" > \" + fqd1\n",
    "    cmd2 = \" seqtk sample -s100 \" + fq2 + \" \"+ str(num) + \" > \" + fqd2\n",
    "    os.system(cmd1)\n",
    "    os.system(cmd2)\n",
    "\n",
    "    "
   ]
  },
  {
   "cell_type": "code",
   "execution_count": 13,
   "metadata": {},
   "outputs": [],
   "source": [
    "fq1 = \"/Users/yanjunzan/Documents/tobacco/bin/DNA_seq/fastq/83_FDSW190451996-1r/83_FDSW190451996-1r_1.clean.fq.gz\"\n",
    "fq2 = \"/Users/yanjunzan/Documents/tobacco/bin/DNA_seq/fastq/83_FDSW190451996-1r/83_FDSW190451996-1r_2.clean.fq.gz\"\n",
    "\n",
    "DownSample(fq1=fq1,fq2=fq2,num=100000)"
   ]
  },
  {
   "cell_type": "code",
   "execution_count": null,
   "metadata": {},
   "outputs": [],
   "source": [
    "\n",
    "# Softline every thing into a data dir\n",
    "\n",
    "# Datadir \n",
    "\n",
    "def SoftLink(inDir,outDir):\n",
    "    os."
   ]
  },
  {
   "cell_type": "code",
   "execution_count": 16,
   "metadata": {},
   "outputs": [
    {
     "data": {
      "text/plain": [
       "['4_FDSW190451996-1r', '83_FDSW190451996-1r']"
      ]
     },
     "execution_count": 16,
     "metadata": {},
     "output_type": "execute_result"
    }
   ],
   "source": [
    "import re\n"
   ]
  },
  {
   "cell_type": "code",
   "execution_count": 7,
   "metadata": {},
   "outputs": [
    {
     "data": {
      "text/plain": [
       "'83_FDSW190451996-1r_1.clean.fq.gz'"
      ]
     },
     "execution_count": 7,
     "metadata": {},
     "output_type": "execute_result"
    }
   ],
   "source": []
  },
  {
   "cell_type": "code",
   "execution_count": 11,
   "metadata": {},
   "outputs": [
    {
     "data": {
      "text/plain": [
       "'/Users/yanjunzan/Documents/tobacco/bin/DNA_seq/fastq/83_FDSW190451996-1r'"
      ]
     },
     "execution_count": 11,
     "metadata": {},
     "output_type": "execute_result"
    }
   ],
   "source": []
  },
  {
   "cell_type": "code",
   "execution_count": 19,
   "metadata": {},
   "outputs": [],
   "source": [
    "import os\n",
    "import re\n",
    "F = [f for f in os.listdir(\"/Users/yanjunzan/Documents/tobacco/bin/DNA_seq/mapped/\") if re.search(\"_sort_index_rg.bam\",f)]\n",
    "out = open(\"test\",\"w\")\n",
    "for f in F:\n",
    "    print(f,file=out)\n",
    "out.close()"
   ]
  },
  {
   "cell_type": "code",
   "execution_count": null,
   "metadata": {},
   "outputs": [],
   "source": []
  }
 ],
 "metadata": {
  "kernelspec": {
   "display_name": "python-Stripes",
   "language": "python",
   "name": "stripes"
  },
  "language_info": {
   "codemirror_mode": {
    "name": "ipython",
    "version": 3
   },
   "file_extension": ".py",
   "mimetype": "text/x-python",
   "name": "python",
   "nbconvert_exporter": "python",
   "pygments_lexer": "ipython3",
   "version": "3.6.6"
  }
 },
 "nbformat": 4,
 "nbformat_minor": 2
}
